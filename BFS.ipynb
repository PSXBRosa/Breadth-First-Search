{
 "cells": [
  {
   "cell_type": "markdown",
   "metadata": {},
   "source": [
    "# Índice\n",
    "\n",
    "* Introdução\n",
    "* Entendendo melhor o algoritmo\n",
    "* Implementação\n",
    "* Análise\n",
    "    * É um algoritmo?\n",
    "    * Invariante\n",
    "    * Complexidade\n",
    "* Referências"
   ]
  },
  {
   "cell_type": "markdown",
   "metadata": {},
   "source": [
    "# Breadth-first-search (BFS)\n",
    "\n",
    "BFS é um algoritmo para atravessar um *gráfico*, uma estrutura de dados que conecta nódulos entre si e permite uma abordagem diferente daquela tradicional às listas. A característica definitiva desse algoritmo é que ele visita todos os nódulos vizinhos ao primeiro que são equidistantes, ou seja:\n",
    "$\\ $\n",
    "\n",
    "![](https://i.imgur.com/ji8cJkF.png)\n",
    "\n",
    "$\\ $\n",
    "nesse caso, o algoritmo deve, partindo do nódulo preto, visitar primeiro aqueles em amarelo, então os em vermelho, terminando com o verde seguido do azul."
   ]
  },
  {
   "cell_type": "markdown",
   "metadata": {},
   "source": [
    "## Entendendo melhor o algoritmo\n",
    "\n",
    "\n",
    "![](https://aos.sh/img/BFS.gif)\n",
    "\n",
    "No gif acima, os nódulos visitados ficam pretos, os na queue ficam cinza e os ainda não vistos, em branco\n",
    "\n",
    "\n",
    "O algoritmo escrito abaixo na sua versão iterativa, tradicionalmente funciona se valendo de uma diferente estrutura de dados: uma \"queue\", esse tipo de estrutura, que pode ser adaptado a partir de uma lista como feito no exemplo de implementação, difere do \"stack\" - que é mais comum - pois o primeiro é varrido \"por ordem de chegada\", o chamado *\"first in, first out\"*. Outra particularidade é que os nódulos já visitados devem ser marcados e a eles deve ser atribuído um \"pai\", ou seja, o outro nódulo que serviu de caminho para chegar nele; no exemplo isso é conquistado através de um dicionário, mas o mesmo objetivo poderia ser atingido por outros meios como POO, por exemplo.\n",
    "\n",
    "-------\n",
    "#### Pseudo-código\n",
    "\n",
    "```\n",
    "1 função BFS(inicio, final):\n",
    "2     nódulos_visitados ← começa com (inicio), seu pai é (NaN)\n",
    "3     fila ← queue vazia\n",
    "4     adiciona à fila(inicio)\n",
    "5     enquanto ainda há elemento na fila:\n",
    "6         atual ← remove e recebe elemento da fila()\n",
    "7         se (atual) é igual ao (final), então:\n",
    "8             retorno\n",
    "9         se não:\n",
    "10            para cada (nódulo) em (conexões do atual):\n",
    "11                se (nódulo) não foi visitado:\n",
    "12                    adiciona a nódulos_visitados, com (atual) como pai\n",
    "13                    adiciona à fila(nódulo)\n",
    "```\n",
    "-------\n",
    "#### Explicação\n",
    "\n",
    "Como visto, é necessário acompanhar durante a execução do código, quais nódulos já foram visitados, quem é seu pai e qual o próximo nódulo a ser visitado, onde a primeiro e o último papel são acompanhados por \"nódulos_visitados\" e a queue, respectivamente. quando entramos no laço da linha 5, é onde a preparação acaba e a execução realmente começa. O algoritmo em cada iteração irá receber o próximo elemento da queue, ver se ele é o alvo e caso não seja, ele irá marcar cada uma das suas conexões não visitadas ainda desse elemento novo como visitadas e as adicionará à queue. Caso, no final de todas as iterações, quando todos os nódulos já foram visitados, não foi encontrado o alvo, então a busca falhou."
   ]
  },
  {
   "cell_type": "markdown",
   "metadata": {},
   "source": [
    "# Implementação em python\n",
    "\n",
    "para esta implementação, nos fundamentamos em um mini-dataset de atores e filmes, o algoritmo deverá nos permitir encontrar a menor conexão entre dois atores - ou ator/filme, ou até mesmo filme/filme."
   ]
  },
  {
   "cell_type": "code",
   "execution_count": 1,
   "metadata": {},
   "outputs": [
    {
     "name": "stdout",
     "output_type": "stream",
     "text": [
      "{'movies': [{'title': 'Diner', 'cast': ['Steve Guttenberg', 'Daniel Stern', 'Mickey Rourke', 'Kevin Bacon', 'Tim Daly', 'Ellen Barkin', 'Paul Reiser', 'Kathryn Dowling', 'Michael Tucker', 'Jessica James', 'Colette Blonigan', 'Kelle Kipp', 'Clement Fowler', 'Claudia Cron']}, {'title': 'Footloose', 'cast': ['Kevin Bacon', 'Lori Singer', 'Dianne Wiest', 'John Lithgow', 'Sarah Jessica Parker', 'Chris Penn', 'Frances Lee McCain', 'Jim Youngs', 'John Laughlin', 'Lynne Marta', 'Douglas Dirkson']}, {'title': 'Flatliners', 'cast': ['Kiefer Sutherland', 'Julia Roberts', 'Kevin Bacon', 'William Baldwin', 'Oliver Platt', 'Kimberly Scott', 'Joshua Rudoy', 'Benjamin Mouton', 'Hope Davis', 'Patricia Belcher', 'Beth Grant']}, {'title': 'Eat Pray Love', 'cast': ['Julia Roberts', 'Javier Bardem', 'Billy Crudup', 'Richard Jenkins', 'Viola Davis', 'James Franco', 'Sophie Thompson', \"Mike O 'Malley\", 'Christine Hakim', 'Arlene Tur', 'Hadi Subiyanto', 'Gita Reddy', 'Tuva Novotny', 'Luca Argentero', 'Rushita Singh']}, {'title': 'Spotlight', 'cast': ['Mark Ruffalo', 'Michael Keaton', 'Rachel McAdams', 'Liev Schreiber', 'John Slattery', \"Brian d'Arcy James\", 'Stanley Tucci', 'Gene Amoroso', 'Jamey Sheridan', 'Billy Crudup', 'Maureen Keiller', 'Richard Jenkins', 'Paul Guilfoyle', 'Len Cariou', 'Neal Huff', 'Michael Cyril Creighton', 'Laurie Heineman', 'Tim Progosh']}]}, esse é o dataset e seu tipo é: <class 'dict'>\n"
     ]
    },
    {
     "data": {
      "text/plain": [
       "'tome algum tempo para analisar esse dataset! veja quais são suas keys e seus valores, também\\nprocure ver se consegue imaginar o menor caminho entre dois atores!'"
      ]
     },
     "execution_count": 1,
     "metadata": {},
     "output_type": "execute_result"
    }
   ],
   "source": [
    "'''para analisar o funcionamento do algoritmo, usaremos esse dataset, com um subset de atores\n",
    "e filmes em que participaram. Podemos usar isso para, por exemplo, descobrir os graus de \n",
    "separação enrte Kevin Bacon e outros atores.'''\n",
    "import json\n",
    "\n",
    "with open('./kevin.json') as f:\n",
    "    data = json.load(f)    \n",
    "print(f'{data}, esse é o dataset e seu tipo é: {type(data)}')\n",
    "\n",
    "'''tome algum tempo para analisar esse dataset! veja quais são suas keys e seus valores, também\n",
    "procure ver se consegue imaginar o menor caminho entre dois atores!'''"
   ]
  },
  {
   "cell_type": "markdown",
   "metadata": {},
   "source": [
    "### Esquleto\n",
    "\n",
    "para preparar o terreno para a aplicação do BFS, precisaremos primeiro de uma estrutura em gráfico de nódulos para o dataset escolhido, e isso é o que será feito na seção a seguir!"
   ]
  },
  {
   "cell_type": "code",
   "execution_count": 2,
   "metadata": {
    "scrolled": true
   },
   "outputs": [
    {
     "name": "stdout",
     "output_type": "stream",
     "text": [
      "Flatliners\n",
      "-*-*-*-*-*-*-*-*-*-*\n",
      "Kiefer Sutherland\n",
      "Julia Roberts\n",
      "Kevin Bacon\n",
      "William Baldwin\n",
      "Oliver Platt\n",
      "Kimberly Scott\n",
      "Joshua Rudoy\n",
      "Benjamin Mouton\n",
      "Hope Davis\n",
      "Patricia Belcher\n",
      "Beth Grant\n",
      "-*-*-*-*-*-*-*-*-*-*\n",
      "<__main__.Nodulo object at 0x000001AE15E94F60> Kevin Bacon\n",
      "<__main__.Nodulo object at 0x000001AE15E94F60> Kevin Bacon\n"
     ]
    }
   ],
   "source": [
    "'''constrói-se aqui a estrutura em gráfico, para relacioar os atores aos filmes e os filmes aos\n",
    "atores, e, por consequência, atores aos atores.'''\n",
    "\n",
    "class Nodulo: ### Um nódulo é, nesse exmplo, um filme ou um ator. Ele é a menor estrutura da gráfico\n",
    "    def __init__(self, value):\n",
    "        self.vizinhos = [] ### Lista de outros nódulos a quem se relaciona\n",
    "        self.value = value ### Seu valor\n",
    "    \n",
    "    def add(self, node): ### definimos um outro nódulo como seu vizinho\n",
    "        self.vizinhos.append(node)\n",
    "\n",
    "class Grafico: ### Classe gráfico, o qual algomera os nódulos\n",
    "    def __init__(self):\n",
    "        self.types = {} ### Aqui serão armazenados os tipos de nódulos e seus representantes\n",
    "        \n",
    "    def add(self, value, typ):\n",
    "        n = Nodulo(value) ### Um novo nódulo é criado\n",
    "        if typ in self.types: ### Ja existe esse tipo de nódulo? Se sim:\n",
    "            for node in self.types[typ]: ### O novo nódulo criado já tem um reprensentante?\n",
    "                if value == node.value:\n",
    "                    return node ### se já houber um nódulo com esse valor, então evitamos \n",
    "                                ### criar outro representante\n",
    "            self.types[typ].append(n) ### se não houver representante, criamos um\n",
    "            return n\n",
    "        else:\n",
    "            self.types[typ] = [n] ### Se não existe esse tipo de nódulo\n",
    "            return n              ### então ele cria um novo tipo\n",
    "        \n",
    "\n",
    "graf = Grafico()\n",
    "for movie in data['movies']: #Para cada filme no dataset\n",
    "    nodulo_filme = graf.add(movie['title'],'movie') #criamos um nódulo\n",
    "    for actor in movie['cast']: #para cada ator\n",
    "        nodulo_ator = graf.add(actor,'actor') #criamos um nódulo\n",
    "        nodulo_filme.add(nodulo_ator) #relacionamos cada ator ao filme\n",
    "        nodulo_ator.add(nodulo_filme) #e cada filme ao ator\n",
    "\n",
    "from random import randint                    # Aqui mostraremos que o dicionário construido\n",
    "filme = randint(0,4)                          # com o nome de \"graf.types\" condiz com os dados\n",
    "filme_teste = graf.types['movie'][filme]      # predefinidos.\n",
    "print(filme_teste.value)                      # \n",
    "print('-*'*10)                                #\n",
    "for i in range(len(filme_teste.vizinhos)):    #\n",
    "    print(filme_teste.vizinhos[i].value)  #\n",
    "print('-*'*10)\n",
    "print(graf.types['movie'][0].vizinhos[3],graf.types['movie'][0].vizinhos[3].value)\n",
    "print(graf.types['movie'][1].vizinhos[0],graf.types['movie'][1].vizinhos[0].value)\n",
    "# Mostramos também que o mesmo ator, mesmo que em relação a dois filmes diferentes, é atribuido\n",
    "# ao mesmo objeto.\n",
    "        \n",
    "\n",
    "            "
   ]
  },
  {
   "cell_type": "markdown",
   "metadata": {},
   "source": [
    "### BFS\n",
    "\n",
    "Finalmente poderemos aplicar o algoritmo em si, construiremos uma subclasse daquela criada acima para lidar com novos conceitos!\n"
   ]
  },
  {
   "cell_type": "code",
   "execution_count": 3,
   "metadata": {},
   "outputs": [
    {
     "name": "stdout",
     "output_type": "stream",
     "text": [
      " >> Steve Guttenberg >> Diner >> Kevin Bacon >> Flatliners >> Julia Roberts >> Eat Pray Love >> Tuva Novotny"
     ]
    }
   ],
   "source": [
    "class Grafico_BFS(Grafico):                        # Criaremos uma subclasse, Grafico_BFS com a\n",
    "    def __init__(self):                            # propriedade de executar o algoritmo. \n",
    "        super().__init__()                         # Então definiremos a função BFS, explicada a\n",
    "                                                   # baixo                                                \n",
    "    def BFS(self, inicio, fim):\n",
    "        '''Função para executar o algoritmo Breadth-first-search\n",
    "        enrte dois nódulos do grafico'''\n",
    "        #Inicialização\n",
    "        visitados = {} # dicionário {nodulo : origem}, serve para obter o caminho e evitar repetição                       \n",
    "        queue = [] # lista, com os valores a serem visitados ainda\n",
    "        visitados[inicio] = None\n",
    "        queue.append(inicio)    \n",
    "        while len(queue) != 0: #se não houverem mais nódulos a serem visítados, a busca falhou\n",
    "            atual = queue.pop(0) #queue é varrido \"por ordem de chegada\"\n",
    "            if atual == fim: # se o elemento foi encontrado, a busca teve sucesso\n",
    "                return visitados\n",
    "            for vizinho in atual.vizinhos: #para cada visinho do nódulo atual\n",
    "                if vizinho not in visitados: #se o vizinho ainda não foi visitado\n",
    "                    visitados[vizinho] = atual #ele será adicionado ao dicionário, com sua origem\n",
    "                    queue.append(vizinho) #e será adicionado na fila\n",
    "        return None\n",
    "\n",
    "graf = Grafico_BFS()\n",
    "for movie in data['movies']: #Para cada filme no dataset\n",
    "    nodulo_filme = graf.add(movie['title'],'movie') #criamos um nódulo\n",
    "    for actor in movie['cast']: #para cada ator\n",
    "        nodulo_ator = graf.add(actor,'actor') #criamos um nódulo\n",
    "        nodulo_filme.add(nodulo_ator) #relacionamos cada ator ao filme\n",
    "        nodulo_ator.add(nodulo_filme) #e cada filme ao ator\n",
    "\n",
    "\n",
    "inicio = 'Steve Guttenberg'\n",
    "fim = 'Tuva Novotny'\n",
    "\n",
    "for tipo in graf.types.values():\n",
    "    for objeto in tipo:\n",
    "        if objeto.value == inicio: inicio = objeto\n",
    "        if objeto. value == fim: fim = objeto\n",
    "\n",
    "visitados = graf.BFS(inicio,fim)\n",
    "path = [fim.value]\n",
    "a = visitados[fim]\n",
    "while a != None:\n",
    "    path.append(a.value)\n",
    "    a = visitados[a]\n",
    "path.reverse()\n",
    "for nod in path:\n",
    "    print(f' >> {nod}', end='')\n",
    "        \n",
    "        "
   ]
  },
  {
   "cell_type": "markdown",
   "metadata": {},
   "source": [
    "# Análise do algoritmo\n",
    "\n",
    "```\n",
    "1 função BFS(início, final):\n",
    "2     nódulos_visitados ← começa com (início), seu pai é (NaN)\n",
    "3     fila ← queue vazia\n",
    "4     adiciona à fila(início)\n",
    "5     enquanto ainda há elemento na fila:\n",
    "6         atual ← remove e recebe elemento da fila()\n",
    "7         se (atual) é igual ao (final), então:\n",
    "8             retorno\n",
    "9         se não:\n",
    "10            para cada (nódulo) em (conexões do atual):\n",
    "11                se (nódulo) não foi visitado:\n",
    "12                    adiciona a nódulos_visitados, com (atual) como pai\n",
    "13                    adiciona à fila(nódulo)\n",
    "```\n",
    "-------\n",
    "\n",
    "## É um algoritmo?\n",
    "\n",
    "Formalmente, uma sequência de operações só pode ser considerada um algoritmo se *termina em tempo finito*, ou seja, se eventualmente ocorre um retorno e o algoritmo não continua sem nunca terminar. Demonstraremos aqui então que eventualmente a sequência de operações chega a um fim.\n",
    "\n",
    "No caso do BFS, o algoritmo acabará se encontrar o retorno na linha 8 ou se sair do laço iniciado na linha 5. Ou seja, o algoritmo terminará com sucesso se verificar verdadeiro em\n",
    "```se (atual) é igual ao (final), então:``` e falhará se sair do laço ```enquanto ainda há elemento na fila:```. Conclui-se então que podemos demonstrar que os procedimentos acaba se conseguirmos demonstrar se mesmo no pior dos casos fila acabará.\n",
    "\n",
    "como assim que for atendida a condição da linha 5 o procedimento para, podemos considerar apenas o caso aonde o código não encontra o alvo como o elemento limitante para ele ser considerado um algoritmo.\n",
    "\n",
    "intuitivamente, podemos ver que o tamanho da fila será crescente, por causa da linha 13. Contudo, conforme o número de nódulos visitados vai aumentando, a linha 11 acaba tendo maior peso e diminuindo o crescimento do tamanho da fila. Eventualmente, o número de vezes que a linha 6 será executada será maior do que o número de vezes que a linha 13 será executada e, a partir desse momento, o tamanho da fila começará a decrescer. Eventualmente, como o tamanho da lista formada pelos elementos visitados é crescente e dependente apenas de quais nódulos foram visitados, esse tamanho terá valor igual ao número de nódulos no gráfico. Quando isso for verdadeiro, então a linha 13 não será mais executada e, portanto, o tamanho da fila será estritamente decrescente; nesse ponto, é garantido que eventualmente o tamanho da fila atingirá valor zero.\n",
    "\n",
    "## Invariante\n",
    "\n",
    "O invariante de um algoritmo é uma expressão matemática que é sempre verdadeira para determinado ponto do procedimento. Para o mesmo algoritmo existem inúmeros invariantes, contudo, é conveniente chamar de propriamente invariante somente aquele que nos ajuda a garantir que o algoritmo está correto.\n",
    "\n",
    "para encontrar o invariante do laço desse algoritmo, será necessário definir uma função $\\gamma(a,b)$, que representa a **menor** distância entre dois nódulos: a e b.\n",
    "\n",
    "* lema:\n",
    "\n",
    "    dado um par de nódulos conectados (u,v), é verdade que\n",
    "    $\\gamma(s,u) \\leq \\gamma(s,v) + 1$, onde s é um nódulo arbitrário.\n",
    "    \n",
    "    Esse lema é fácil de ser visualizado, como existe uma conexão entre u e v, então s levaria ao máximo somente uma iteração a mais para chegar de u até v. sendo que ele chega até u. caso não exista caminho de s a u, então denota-se $\\gamma(s,u) = \\infty$ e a desigualdade se mantêm.\n",
    "    \n",
    "* lema:\n",
    "    \n",
    "    enquanto o algoritmo ainda não revelou determinado nódulo u , então é convencional dizer que a distância entre um nódulo arbitrário já revelado s e u é $\\gamma(s,u) = \\infty$. Será demonstrado que o retorno de BFS: $d[u]$, é maior ou igual que a menor distância possível entre s e o alvo u, $d[u] \\geq \\gamma(s,u)$:\n",
    "    para a primeira iteração, temos que $d[s] = \\gamma(s,s) = 0$ e $d[v] = \\infty \\geq \\gamma(s,v)$, $v$ um nódulo arbitrário. Para o caso de indução, considere um nódulo $q$ que é descoberto a partir do nódulo $w$, ou seja, existe uma conexão entre $q$ e $w$. pode-se escrever que $d[q] = d[w] + 1 \\geq \\gamma(s,w) + 1$ , mas, pelo lema anterior, $ \\gamma(s,w) + 1 \\geq \\gamma(s,q) \\therefore d[q] \\geq \\gamma(s,q)$. O nódulo q então é marcado como visitado e, portanto, o valor de $d[q]$ também nunca mais muda.\n",
    "    \n",
    "* lema:\n",
    "    \n",
    "    para qualquer iteração do processo, é válido que para a queue de nódulos $\\{v_1,v_2,v_3,...,v_n\\}$, onde $v_1$ é o elemento que sairá na próxima iteração e $v_n$ será o último dentre esses nódulos a sair, vale que $d[v_n] \\leq d[v_1] + 1$ e que $d[v_n] \\geq d[v_{n-1}]$. A segunda sentença é intuitiva e trivial, se o nódulo foi adicionado depois, então ele deve ser sido encontrado depois e pelo funcionamento do BFS, ele necessariamente está mais distante ou à mesma distância de um elemento que veio antes. A primeira sentença por outro lado, precisa ser analisada mais cuidadosamente, mas podemos pensar da seguinte maneira: quaisquer dois nódulos ao mesmo tempo dentro da fila distam ao máximo 1, uma vez que antes de um nódulo ainda mais distante ser adicionado, todos os mais próximos devem sair da queue (verifique isso no gif no começo do notebook! Os nódulos cinza são aqueles na queue). Escreveremos isso agora de forma mais formal. Quando retiramos o próximo elemento da fila, fazemos com que o elemento seguinte se torne o novo líder, assim, devemos garantir que as relações enunciadas se mantém constantes para qualquer retirada de valores da fila, assim: $d[v_1] \\leq d[v_2] \\Rightarrow d[v_n] \\leq d[v_1] + 1 \\leq d[v_2] + 1$. Agora, falta mostrar que o lema segura o caso de adição de elementos à fila, caso adicionemos um novo elemento $v$ à fila, ele entrará como $v_{n+1}$. Por ele ter entrado depois, temos que $v_{n+1} \\geq v_n$. Também, pela construção do algoritmo, quando $v$ entra, seu nódulo pai, $u$, já saiu da fila; assim, $d[v] = d[u] + 1 \\leq d[v_1] + 1$ e $d[v_r] \\leq d[u] + 1 \\Rightarrow d[v_r] \\leq d[v]$. Assim, o lema é provado.\n",
    "    \n",
    "* Teorema (BFS está correto)\n",
    "\n",
    "    Dado um nódulo $v \\neq s$ com distância avaliada $d[v] > \\gamma(s,v)$, seja $u$, vértice vizinho precedente de $v$, tal que $d[u] = \\gamma(s,u)$ então $\\gamma(s,u) + 1 = \\gamma(s,v)$, pois $\\gamma(s,u) > \\gamma(s,v)$, temos:\n",
    "    $d[v] > \\gamma(s,v) = \\gamma(s,u) + 1 = d[u] + 1 \\Rightarrow d[v] > d[u] + 1$\n",
    "    Agora, nessa iteração, o vértice v está na queue, já foi retirado da queue, ou ainda tem que ser adicionado há queue.\n",
    "    Se $v$ ainda não foi adicionada à fila, na linha 12, definimos a distância $d[v] = d[u] + 1$, contradizendo a inequação; se $v$ já foi retirado da fila, então $d[v] \\leq d[u]$, também contradizendo a inequação, e, finalmente, se $v$ estiver na fila, então existe $w$, tq $w$ é pai de $v$, assim $d[v] = d[w] + 1 \\Rightarrow d[v] = d[w] + 1 \\leq d[u] + 1$, novamente contradizendo a inequação. Portanto, conclui-se que não existe $d[v]$ tal que $d[v] > \\gamma(s,v)$ e, pelo segundo lema, $d[v] = \\gamma(s,v)$.\n",
    " \n",
    "## Análise de complexidade\n",
    "\n",
    "##### Complexidade de tempo\n",
    "\n",
    "O algoritmo, da forma construída, possui complexidade em notação 'BigOH' $O(N + C)$, onde N é o número de Nódulos e C é o número de conexões, isso é facilmente visível se analisarmos o papel das linhas 6, 10 e 11 do pseudo-código. É observado que, por conta do queue e do fato de que mantemos na memória quais elementos foram visitados, então cada nódulo só será visitado uma vez, assim, para essa parte a complexidade do pior caso é $O(N)$. Na linha 10, contudo, nós verificamos cada conexão de cada nódulo uma vez, e como a mesma conexão aparece em dois nódulos diferentes, toda conexão aparecerá duas vezes no pior caso, assim, a complexidade dessa parte do algoritmo no pior caso será $O(2C) = O(C)$. Finalmente, para o algoritmo inteiro, podemos concluir que ele possui complexidade de tempo em notação \"BigOH\" $O(N + C)$ \n",
    "\n",
    "##### Complexidade de memória \n",
    "\n",
    "Como devemos manter na memória cada nódulo já visitado, concluímos que a complexidade de memória em notação \"BigOH\" será $O(N)$, onde $N$ é o número de nódulos.\n",
    "\n",
    "# LINKS E REFERÊNCIAS\n",
    "\n",
    "https://pt.wikipedia.org/wiki/Busca_em_largura#Complexidade_de_Espa%C3%A7o\n",
    "\n",
    "https://en.wikipedia.org/wiki/Breadth-first_search\n",
    "\n",
    "http://aris.me/contents/teaching/data-mining-ds-2016/resources/clrs-bfs.pdf\n",
    "\n",
    "https://www.ime.usp.br/~pf/algoritmos_para_grafos/aulas/bfs.html\n",
    "\n",
    "https://www.youtube.com/watch?v=piBq7VD0ZSo\n",
    "\n",
    "https://www.hackerearth.com/pt-br/practice/algorithms/graphs/breadth-first-search/tutorial/"
   ]
  }
 ],
 "metadata": {
  "kernelspec": {
   "display_name": "Python 3",
   "language": "python",
   "name": "python3"
  },
  "language_info": {
   "codemirror_mode": {
    "name": "ipython",
    "version": 3
   },
   "file_extension": ".py",
   "mimetype": "text/x-python",
   "name": "python",
   "nbconvert_exporter": "python",
   "pygments_lexer": "ipython3",
   "version": "3.7.3"
  }
 },
 "nbformat": 4,
 "nbformat_minor": 4
}
